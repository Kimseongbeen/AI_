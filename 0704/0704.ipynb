{
  "nbformat": 4,
  "nbformat_minor": 0,
  "metadata": {
    "colab": {
      "provenance": [],
      "authorship_tag": "ABX9TyMnocHc/UVXCWSvYUmVBCxy",
      "include_colab_link": true
    },
    "kernelspec": {
      "name": "python3",
      "display_name": "Python 3"
    },
    "language_info": {
      "name": "python"
    }
  },
  "cells": [
    {
      "cell_type": "markdown",
      "metadata": {
        "id": "view-in-github",
        "colab_type": "text"
      },
      "source": [
        "<a href=\"https://colab.research.google.com/github/Kimseongbeen/AI_/blob/master/0704.ipynb\" target=\"_parent\"><img src=\"https://colab.research.google.com/assets/colab-badge.svg\" alt=\"Open In Colab\"/></a>"
      ]
    },
    {
      "cell_type": "code",
      "execution_count": null,
      "metadata": {
        "colab": {
          "base_uri": "https://localhost:8080/"
        },
        "id": "9EVBqgJ-kcUL",
        "outputId": "efa0e3a7-52af-474c-ff0e-d103b08caee7"
      },
      "outputs": [
        {
          "output_type": "stream",
          "name": "stdout",
          "text": [
            "김성빈\n"
          ]
        }
      ],
      "source": [
        "print(\"김성빈\")"
      ]
    },
    {
      "cell_type": "code",
      "source": [
        "age=24\n",
        "name=\"김성빈\"\n",
        "print(age, name)"
      ],
      "metadata": {
        "colab": {
          "base_uri": "https://localhost:8080/"
        },
        "id": "TaRzAfZtk2PH",
        "outputId": "abeded0c-bb7d-470d-c328-dac41157897b"
      },
      "execution_count": null,
      "outputs": [
        {
          "output_type": "stream",
          "name": "stdout",
          "text": [
            "24 김성빈\n"
          ]
        }
      ]
    },
    {
      "cell_type": "code",
      "source": [
        "a=24\n",
        "b=35\n",
        "c=a+b\n",
        "d=a-b\n",
        "e=a*b\n",
        "f=a//b\n",
        "g=a/b\n",
        "h=a%b\n",
        "print(c,d,e)\n",
        "print(f,g,h)"
      ],
      "metadata": {
        "colab": {
          "base_uri": "https://localhost:8080/"
        },
        "id": "C4kY39iCljnu",
        "outputId": "4f71290d-9704-4ac1-bf3c-6f2533fde480"
      },
      "execution_count": null,
      "outputs": [
        {
          "output_type": "stream",
          "name": "stdout",
          "text": [
            "59 -11 840\n",
            "0 0.6857142857142857 24\n"
          ]
        }
      ]
    },
    {
      "cell_type": "code",
      "source": [
        "# 주석\n",
        "import random\n",
        "a=random.randint(0,10)\n",
        "b=random.randint(0,10)\n",
        "print(a,b)"
      ],
      "metadata": {
        "colab": {
          "base_uri": "https://localhost:8080/"
        },
        "id": "ckFeE0nrpvn2",
        "outputId": "5b72603c-cd13-4703-8eb4-964974e40da5"
      },
      "execution_count": null,
      "outputs": [
        {
          "output_type": "stream",
          "name": "stdout",
          "text": [
            "8 3\n"
          ]
        }
      ]
    },
    {
      "cell_type": "code",
      "source": [
        "import random\n"
      ],
      "metadata": {
        "id": "t5FsVf4lp3OE"
      },
      "execution_count": null,
      "outputs": []
    },
    {
      "cell_type": "code",
      "source": [
        "# a와 b에 임의의 숫자를 받는다. 숫자의 범위는 0에서 100 사이이다.\n",
        "# total의 합을 구하고. avr에는 평균값을 구한다\n",
        "# a,b,total,avr값을 출력한다.\n",
        "import random\n",
        "a = random.randint(0,100)\n",
        "\n",
        "if 50 <= a <= 70:\n",
        "   print(\"ok\")\n",
        "else:\n",
        "    print(\"not ok\")\n",
        "\n",
        "    print(a)"
      ],
      "metadata": {
        "colab": {
          "base_uri": "https://localhost:8080/"
        },
        "id": "XayTMvB1p79x",
        "outputId": "28834a9d-175a-44eb-df6c-4f00c8bab3e1"
      },
      "execution_count": null,
      "outputs": [
        {
          "output_type": "stream",
          "name": "stdout",
          "text": [
            "not ok\n",
            "22\n"
          ]
        }
      ]
    },
    {
      "cell_type": "code",
      "source": [
        "a = random.randint(0,100)\n",
        "if 90 <= a <= 100:\n",
        "  print(\"A\")\n",
        "  80 <= a <= 90:\n",
        "  90 <= a <= 80:\n",
        "  90 <= a <= 70:\n",
        "  90 <= a <= 60\n",
        "  else a <= 50:\n",
        "\n"
      ],
      "metadata": {
        "id": "5V48poFvvbbP"
      },
      "execution_count": null,
      "outputs": []
    },
    {
      "cell_type": "code",
      "source": [
        "data1 = [12,15,34,53]\n",
        "print(data1)\n",
        "\n",
        "a= data1[0]\n",
        "b= data1[len(data1)-1]\n",
        "\n",
        "print(a,b)\n",
        "\n",
        "for i in range(len(data1)):\n",
        "  print(i,data1[i])"
      ],
      "metadata": {
        "colab": {
          "base_uri": "https://localhost:8080/"
        },
        "id": "GT7lvuTlvtcv",
        "outputId": "9d57d496-e246-4138-a965-f2289e456403"
      },
      "execution_count": null,
      "outputs": [
        {
          "output_type": "stream",
          "name": "stdout",
          "text": [
            "[12, 15, 34, 53]\n",
            "12 53\n",
            "0 12\n",
            "1 15\n",
            "2 34\n",
            "3 53\n"
          ]
        }
      ]
    },
    {
      "cell_type": "code",
      "source": [
        "# 0~100 사이의 숫자 10개 생성하기\n",
        "data1 = []\n",
        "\n",
        "for i in range(10):\n",
        "    a = random.randint(0,100)\n",
        "    data1.append(a)\n",
        "\n",
        "\n",
        "print(data1)"
      ],
      "metadata": {
        "colab": {
          "base_uri": "https://localhost:8080/"
        },
        "id": "TfVq_M2vwic8",
        "outputId": "0160ae42-65fb-4d75-f80b-b9450a451008"
      },
      "execution_count": null,
      "outputs": [
        {
          "output_type": "stream",
          "name": "stdout",
          "text": [
            "[27, 86, 85, 60, 54, 80, 82, 80, 59, 20]\n"
          ]
        }
      ]
    },
    {
      "cell_type": "code",
      "source": [
        "# count = 10~20 사이의 숫자를 임의로 뽑는다\n",
        "# data1에 count 개수 만큼 임의의 숫자를 채운다.\n",
        "# 임의의 데이터의 범위는 0~100 사이이다.\n",
        "#count 와 data1을 출력한다.\n",
        "\n",
        "count = random.randint(10,20)\n",
        "data1=[]\n",
        "for i in range(count):\n",
        "  data1.append(random.randint(0,100))\n",
        "\n",
        "print(count,data1)"
      ],
      "metadata": {
        "colab": {
          "base_uri": "https://localhost:8080/"
        },
        "id": "kz2ypQZvxYHs",
        "outputId": "a77b2225-c859-4617-f527-22f32108a60f"
      },
      "execution_count": null,
      "outputs": [
        {
          "output_type": "stream",
          "name": "stdout",
          "text": [
            "18 [5, 53, 84, 27, 50, 32, 86, 64, 65, 68, 19, 72, 43, 58, 5, 25, 27, 71]\n"
          ]
        }
      ]
    },
    {
      "cell_type": "code",
      "source": [
        "data1 = [[92,31,12,22],[21,56,3,63],[12,55,66,32],[12,44,22,89]]\n",
        "print(data1)\n",
        "\n",
        "a = data1[0][1]\n",
        "print(a)\n"
      ],
      "metadata": {
        "colab": {
          "base_uri": "https://localhost:8080/"
        },
        "id": "ZmHtgtKvyJR8",
        "outputId": "b07bc10e-1e81-47cf-d276-e6982c2ef787"
      },
      "execution_count": null,
      "outputs": [
        {
          "output_type": "stream",
          "name": "stdout",
          "text": [
            "[[92, 31, 12, 22], [21, 56, 3, 63], [12, 55, 66, 32], [12, 44, 22, 89]]\n",
            "31\n"
          ]
        }
      ]
    },
    {
      "cell_type": "code",
      "source": [
        "data1 = []\n",
        "\n",
        "for y in range(10):\n",
        "  v = []\n",
        "  for x in range(3):\n",
        "    v.append(random.randint(0,100))\n",
        "\n",
        "    data1.append(v)\n",
        "print(data1)\n",
        "totals = []\n",
        "avgs = []\n",
        "for y in range(len(data1)):\n",
        "  total = 0\n",
        "  for x in range(3):\n",
        "    total += data1[y][x]\n",
        "  totals.append(total)\n",
        "  avgs.append(total/3)\n",
        "\n",
        "for y in range(len(data1)):\n",
        "  print(y,data1[y],totals[y],avgs[y])"
      ],
      "metadata": {
        "colab": {
          "base_uri": "https://localhost:8080/"
        },
        "id": "DUOKZ2qQ2Arg",
        "outputId": "e9bcb001-db49-4b43-c594-a814b0e2b817"
      },
      "execution_count": null,
      "outputs": [
        {
          "output_type": "stream",
          "name": "stdout",
          "text": [
            "[[45, 38, 52], [45, 38, 52], [45, 38, 52], [98, 17, 23], [98, 17, 23], [98, 17, 23], [4, 48, 13], [4, 48, 13], [4, 48, 13], [48, 88, 71], [48, 88, 71], [48, 88, 71], [87, 51, 83], [87, 51, 83], [87, 51, 83], [49, 37, 24], [49, 37, 24], [49, 37, 24], [10, 47, 5], [10, 47, 5], [10, 47, 5], [13, 29, 67], [13, 29, 67], [13, 29, 67], [96, 87, 51], [96, 87, 51], [96, 87, 51], [83, 29, 43], [83, 29, 43], [83, 29, 43]]\n",
            "0 [45, 38, 52] 135 45.0\n",
            "1 [45, 38, 52] 135 45.0\n",
            "2 [45, 38, 52] 135 45.0\n",
            "3 [98, 17, 23] 138 46.0\n",
            "4 [98, 17, 23] 138 46.0\n",
            "5 [98, 17, 23] 138 46.0\n",
            "6 [4, 48, 13] 65 21.666666666666668\n",
            "7 [4, 48, 13] 65 21.666666666666668\n",
            "8 [4, 48, 13] 65 21.666666666666668\n",
            "9 [48, 88, 71] 207 69.0\n",
            "10 [48, 88, 71] 207 69.0\n",
            "11 [48, 88, 71] 207 69.0\n",
            "12 [87, 51, 83] 221 73.66666666666667\n",
            "13 [87, 51, 83] 221 73.66666666666667\n",
            "14 [87, 51, 83] 221 73.66666666666667\n",
            "15 [49, 37, 24] 110 36.666666666666664\n",
            "16 [49, 37, 24] 110 36.666666666666664\n",
            "17 [49, 37, 24] 110 36.666666666666664\n",
            "18 [10, 47, 5] 62 20.666666666666668\n",
            "19 [10, 47, 5] 62 20.666666666666668\n",
            "20 [10, 47, 5] 62 20.666666666666668\n",
            "21 [13, 29, 67] 109 36.333333333333336\n",
            "22 [13, 29, 67] 109 36.333333333333336\n",
            "23 [13, 29, 67] 109 36.333333333333336\n",
            "24 [96, 87, 51] 234 78.0\n",
            "25 [96, 87, 51] 234 78.0\n",
            "26 [96, 87, 51] 234 78.0\n",
            "27 [83, 29, 43] 155 51.666666666666664\n",
            "28 [83, 29, 43] 155 51.666666666666664\n",
            "29 [83, 29, 43] 155 51.666666666666664\n"
          ]
        }
      ]
    }
  ]
}